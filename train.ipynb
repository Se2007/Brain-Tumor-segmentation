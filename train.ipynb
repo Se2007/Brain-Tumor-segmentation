{
 "cells": [
  {
   "cell_type": "markdown",
   "metadata": {},
   "source": [
    "### Imports"
   ]
  },
  {
   "cell_type": "code",
   "execution_count": 7,
   "metadata": {},
   "outputs": [],
   "source": [
    "import torch\n",
    "from torch import nn\n",
    "import torch.nn.functional as F\n",
    "from torch import optim\n",
    "\n",
    "import matplotlib.pyplot as plt\n",
    "import math\n",
    "import numpy as np\n",
    "import  wandb\n",
    "import os\n",
    "import time\n",
    "\n",
    "from torchmetrics import Dice\n",
    "import segmentation_models_pytorch as smp\n",
    "\n",
    "## depend to the files of the project\n",
    "import utils \n",
    "from utils import load, save, plot\n",
    "from Benchmark import dataset\n",
    "from methods import unet, unetplusplus, deeplab, transunet\n",
    "from utils import load, save, plot"
   ]
  },
  {
   "cell_type": "markdown",
   "metadata": {},
   "source": [
    "### Loading the WandB"
   ]
  },
  {
   "cell_type": "code",
   "execution_count": 3,
   "metadata": {},
   "outputs": [
    {
     "name": "stderr",
     "output_type": "stream",
     "text": [
      "Failed to detect the name of this notebook, you can set it manually with the WANDB_NOTEBOOK_NAME environment variable to enable code saving.\n",
      "\u001b[34m\u001b[1mwandb\u001b[0m: Currently logged in as: \u001b[33msepehr-eslami2019\u001b[0m (\u001b[33mface-estimation\u001b[0m). Use \u001b[1m`wandb login --relogin`\u001b[0m to force relogin\n",
      "\u001b[34m\u001b[1mwandb\u001b[0m: \u001b[33mWARNING\u001b[0m If you're specifying your api key in code, ensure this code is not shared publicly.\n",
      "\u001b[34m\u001b[1mwandb\u001b[0m: \u001b[33mWARNING\u001b[0m Consider setting the WANDB_API_KEY environment variable, or running `wandb login` from the command line.\n",
      "\u001b[34m\u001b[1mwandb\u001b[0m: Appending key for api.wandb.ai to your netrc file: C:\\Users\\USER/.netrc\n"
     ]
    }
   ],
   "source": [
    "key_file = './wandb-key.txt'\n",
    "\n",
    "if os.path.exists(key_file):\n",
    "    with open(key_file) as f:\n",
    "        key = f.readline().strip()\n",
    "    wandb.login(key=key)\n",
    "else:\n",
    "    print(\"Key file does not exist. Please create the key file with your wandb API key.\")"
   ]
  },
  {
   "cell_type": "markdown",
   "metadata": {},
   "source": [
    "### Arguments"
   ]
  },
  {
   "cell_type": "code",
   "execution_count": 6,
   "metadata": {},
   "outputs": [],
   "source": [
    "seed = 3\n",
    "wandb_enable = True\n",
    "\n",
    "info = {'num_epoch' :5,\n",
    "        'lr' : 0.3,\n",
    "        'weight_decay' : 0.0001,\n",
    "        'device' : 'cuda',\n",
    "        'reset': True,\n",
    "        'name_load' : 'pretrain-unet-efficientnet',\n",
    "        'model_load_path' : './saved_model/',\n",
    "        'model_save_path' : './saved_model/'\n",
    "        }\n"
   ]
  },
  {
   "cell_type": "markdown",
   "metadata": {},
   "source": [
    "Initialize `wandb`"
   ]
  },
  {
   "cell_type": "code",
   "execution_count": 5,
   "metadata": {},
   "outputs": [
    {
     "data": {
      "text/html": [
       "wandb version 0.18.3 is available!  To upgrade, please run:\n",
       " $ pip install wandb --upgrade"
      ],
      "text/plain": [
       "<IPython.core.display.HTML object>"
      ]
     },
     "metadata": {},
     "output_type": "display_data"
    },
    {
     "data": {
      "text/html": [
       "Tracking run with wandb version 0.16.0"
      ],
      "text/plain": [
       "<IPython.core.display.HTML object>"
      ]
     },
     "metadata": {},
     "output_type": "display_data"
    },
    {
     "data": {
      "text/html": [
       "Run data is saved locally in <code>d:\\Brain-Tumor-Segmentation\\wandb\\run-20241014_202119-b7rvxeuh</code>"
      ],
      "text/plain": [
       "<IPython.core.display.HTML object>"
      ]
     },
     "metadata": {},
     "output_type": "display_data"
    },
    {
     "data": {
      "text/html": [
       "Syncing run <strong><a href='https://wandb.ai/face-estimation/Brain%20tumor%20segmentation/runs/b7rvxeuh' target=\"_blank\">Pretrained Unet(efficientnet)</a></strong> to <a href='https://wandb.ai/face-estimation/Brain%20tumor%20segmentation' target=\"_blank\">Weights & Biases</a> (<a href='https://wandb.me/run' target=\"_blank\">docs</a>)<br/>"
      ],
      "text/plain": [
       "<IPython.core.display.HTML object>"
      ]
     },
     "metadata": {},
     "output_type": "display_data"
    },
    {
     "data": {
      "text/html": [
       " View project at <a href='https://wandb.ai/face-estimation/Brain%20tumor%20segmentation' target=\"_blank\">https://wandb.ai/face-estimation/Brain%20tumor%20segmentation</a>"
      ],
      "text/plain": [
       "<IPython.core.display.HTML object>"
      ]
     },
     "metadata": {},
     "output_type": "display_data"
    },
    {
     "data": {
      "text/html": [
       " View run at <a href='https://wandb.ai/face-estimation/Brain%20tumor%20segmentation/runs/b7rvxeuh' target=\"_blank\">https://wandb.ai/face-estimation/Brain%20tumor%20segmentation/runs/b7rvxeuh</a>"
      ],
      "text/plain": [
       "<IPython.core.display.HTML object>"
      ]
     },
     "metadata": {},
     "output_type": "display_data"
    },
    {
     "data": {
      "text/html": [
       "<button onClick=\"this.nextSibling.style.display='block';this.style.display='none';\">Display W&B run</button><iframe src='https://wandb.ai/face-estimation/Brain%20tumor%20segmentation/runs/b7rvxeuh?jupyter=true' style='border:none;width:100%;height:420px;display:none;'></iframe>"
      ],
      "text/plain": [
       "<wandb.sdk.wandb_run.Run at 0x24c5c3d0fd0>"
      ]
     },
     "execution_count": 5,
     "metadata": {},
     "output_type": "execute_result"
    }
   ],
   "source": [
    "wandb_arg_name = 'Pretrained Unet(efficientnet)' # name of this training process\n",
    "wandb.init(\n",
    "        project='Brain tumor segmentation',  # name of the project\n",
    "        name=wandb_arg_name,\n",
    "        config={\n",
    "            'lr': info['lr'],\n",
    "            'weight_decay': info['weight_decay'],\n",
    "            'num_epoch': info['num_epoch']\n",
    "        }\n",
    "    )\n"
   ]
  },
  {
   "cell_type": "markdown",
   "metadata": {},
   "source": [
    "### Main Loop"
   ]
  },
  {
   "cell_type": "code",
   "execution_count": 8,
   "metadata": {},
   "outputs": [],
   "source": [
    "loss_train_hist = []\n",
    "loss_valid_hist = []\n",
    "\n",
    "metric_train_hist = []\n",
    "metric_valid_hist = []\n",
    "\n",
    "best_loss_valid = torch.inf\n",
    "epoch_counter = 0"
   ]
  },
  {
   "cell_type": "markdown",
   "metadata": {},
   "source": [
    "Deffine the `Dataloader`"
   ]
  },
  {
   "cell_type": "code",
   "execution_count": 12,
   "metadata": {},
   "outputs": [],
   "source": [
    "train_batch_size = 54\n",
    "valid_batch_size = 64\n",
    "\n",
    "\n",
    "train_loader = dataset.BraTS20(\"./Benchmark\", 'train', mini=False, memory=False)(batch_size=train_batch_size)\n",
    "valid_loader = dataset.BraTS20(\"./Benchmark\", 'valid', mini=False, memory=False)(batch_size=valid_batch_size)"
   ]
  },
  {
   "cell_type": "markdown",
   "metadata": {},
   "source": [
    " Define the `Model` - `Optimizer` - `Loss Function` - `Metric`"
   ]
  },
  {
   "cell_type": "code",
   "execution_count": 10,
   "metadata": {},
   "outputs": [],
   "source": [
    "load_path = info['model_load_path'] + info['name_load'] + \".pth\"\n",
    "\n",
    "###############\n",
    "#    Model    #\n",
    "###############\n",
    "\n",
    "# model = unet.UNet(n_channels=3, n_classes=3, bilinear=False).to(info['device'])  ## my unet arhitesture\n",
    "model = unet.pre_train_unet(in_channels=4, classes=4, encoder_name='efficientnet-b1').to(info['device'])  ## Pre-trained unet with efficientnet encoder\n",
    "# model = unetplusplus.UnetPlusPlus(encoder_name='resnet18').to(info['device'])  ## Pre-trained unet++ archoteture with efficientnet encoder \n",
    "# model = deeplab.DeepLab(encoder_name='efficientnet-b1').to(info['device'])  ## Pre-trained DeepLabv3 archoteture with efficientnet encoder \n",
    "# model = transunet.TransUNet(img_dim=224, in_channels=3, class_num=3).to(info['device'])\n",
    "\n",
    "\n",
    "optimizer = optim.SGD(model.parameters(), lr=info['lr'], weight_decay=info['weight_decay'], momentum=0.9)# , nesterov=True\n",
    "lr_scheduler = optim.lr_scheduler.MultiStepLR(optimizer, milestones=[3, 6], gamma=0.5)\n",
    "\n",
    "loss_fn = smp.losses.DiceLoss(mode='multilabel')\n",
    "# loss_fn = Criterion()\n",
    "\n",
    "metric = Dice().to(info['device'])\n",
    "\n",
    "model, loss_fn, _ = load(model, loss_fn, optimizer, device=info['device'], reset = info['reset'], load_path = load_path)\n",
    "\n",
    "save_path = info['model_save_path'] + info['name_load']+ \".pth\""
   ]
  },
  {
   "cell_type": "code",
   "execution_count": 15,
   "metadata": {},
   "outputs": [],
   "source": [
    "optimizer = optim.SGD(model.parameters(), lr=0.03, weight_decay=info['weight_decay'], momentum=0.9)\n",
    "# scheduler = optim.lr_scheduler.CosineAnnealingLR(optimizer,T_max=int(30000/32*10)+50, \n",
    "#                                                    eta_min=1e-6) "
   ]
  },
  {
   "cell_type": "markdown",
   "metadata": {},
   "source": [
    "**`Training`**"
   ]
  },
  {
   "cell_type": "code",
   "execution_count": 13,
   "metadata": {},
   "outputs": [
    {
     "name": "stderr",
     "output_type": "stream",
     "text": [
      "Epoch 1: 100%|██████████| 721/721 [49:29<00:00,  4.12s/batch, loss=0.338, metric=0.977]  \n"
     ]
    },
    {
     "name": "stdout",
     "output_type": "stream",
     "text": [
      "Train      - Loss:0.3376648724079132  Metric:0.9773927330970764\n",
      "Validation - Loss:0.24540920555591583  Metric:0.9889357089996338\n",
      "LR = 0.3\n",
      "\n",
      "Model Saved (\"o\")\n"
     ]
    },
    {
     "name": "stderr",
     "output_type": "stream",
     "text": [
      "Epoch 2: 100%|██████████| 721/721 [43:35<00:00,  3.63s/batch, loss=0.186, metric=0.993]\n"
     ]
    },
    {
     "name": "stdout",
     "output_type": "stream",
     "text": [
      "Train      - Loss:0.18565276265144348  Metric:0.9934394359588623\n",
      "Validation - Loss:0.4553113281726837  Metric:0.5302287340164185\n",
      "LR = 0.3\n",
      "\n"
     ]
    },
    {
     "name": "stderr",
     "output_type": "stream",
     "text": [
      "Epoch 3: 100%|██████████| 721/721 [43:26<00:00,  3.62s/batch, loss=0.174, metric=0.994]\n"
     ]
    },
    {
     "name": "stdout",
     "output_type": "stream",
     "text": [
      "Train      - Loss:0.17397522926330566  Metric:0.9937406778335571\n",
      "Validation - Loss:0.20512525737285614  Metric:0.9739822745323181\n",
      "LR = 0.3\n",
      "\n",
      "Model Saved (\"o\")\n"
     ]
    },
    {
     "name": "stderr",
     "output_type": "stream",
     "text": [
      "Epoch 4: 100%|██████████| 721/721 [44:16<00:00,  3.69s/batch, loss=0.141, metric=0.994]\n"
     ]
    },
    {
     "name": "stdout",
     "output_type": "stream",
     "text": [
      "Train      - Loss:0.14074423909187317  Metric:0.9944784045219421\n",
      "Validation - Loss:0.16082654893398285  Metric:0.9941924810409546\n",
      "LR = 0.15\n",
      "\n",
      "Model Saved (\"o\")\n"
     ]
    },
    {
     "name": "stderr",
     "output_type": "stream",
     "text": [
      "Epoch 5: 100%|██████████| 721/721 [43:05<00:00,  3.59s/batch, loss=0.146, metric=0.995]\n"
     ]
    },
    {
     "name": "stdout",
     "output_type": "stream",
     "text": [
      "Train      - Loss:0.14561402797698975  Metric:0.9947564601898193\n",
      "Validation - Loss:0.14688391983509064  Metric:0.9962279200553894\n",
      "LR = 0.15\n",
      "\n",
      "Model Saved (\"o\")\n"
     ]
    }
   ],
   "source": [
    "epochs = info['num_epoch']\n",
    "\n",
    "for epoch in range(1, epochs+1):\n",
    "    ## Train\n",
    "    model, loss_train, metric_train = utils.train_one_epoch(model,\n",
    "                                                            # valid_loader,\n",
    "                                                            train_loader,\n",
    "                                                            loss_fn,\n",
    "                                                            optimizer,\n",
    "                                                            metric,\n",
    "                                                            epoch,\n",
    "                                                            device=info['device'])\n",
    "    \n",
    "    ## Validation\n",
    "    loss_valid, metric_valid = utils.evaluate(model,\n",
    "                                              valid_loader,\n",
    "                                              loss_fn,\n",
    "                                              metric,\n",
    "                                              device=info['device'])\n",
    "\n",
    "        \n",
    "    loss_train_hist.append(loss_train)\n",
    "    loss_valid_hist.append(loss_valid)\n",
    "\n",
    "    metric_train_hist.append(metric_train)\n",
    "    metric_valid_hist.append(metric_valid)\n",
    "\n",
    "\n",
    "    print(f'Train      - Loss:{loss_train}  Metric:{metric_train}')\n",
    "    print(f'Validation - Loss:{loss_valid}  Metric:{metric_valid}')\n",
    "    print(f'LR = {lr_scheduler.get_last_lr()[0]}')\n",
    "    print()\n",
    "\n",
    "    if loss_valid < best_loss_valid:\n",
    "        save(save_path, model, optimizer, loss_fn)\n",
    "        best_loss_valid = loss_valid\n",
    "        print('Model Saved (\"o\")')\n",
    "\n",
    "    if wandb_enable:\n",
    "        wandb.log({\"metric_train\": metric_train, \"loss_train\": loss_train,\n",
    "                   \"metric_valid\": metric_valid, \"loss_valid\": loss_valid})\n",
    "        \n",
    "    lr_scheduler.step()\n",
    "\n",
    "    epoch_counter += 1\n",
    "\n",
    "\n",
    "\n"
   ]
  },
  {
   "cell_type": "code",
   "execution_count": 41,
   "metadata": {},
   "outputs": [
    {
     "data": {
      "application/vnd.jupyter.widget-view+json": {
       "model_id": "0e0b44780fd340ba838ec6e39d9e6d3a",
       "version_major": 2,
       "version_minor": 0
      },
      "text/plain": [
       "VBox(children=(Label(value='0.001 MB of 0.001 MB uploaded\\r'), FloatProgress(value=1.0, max=1.0)))"
      ]
     },
     "metadata": {},
     "output_type": "display_data"
    },
    {
     "data": {
      "text/html": [
       "<style>\n",
       "    table.wandb td:nth-child(1) { padding: 0 10px; text-align: left ; width: auto;} td:nth-child(2) {text-align: left ; width: 100%}\n",
       "    .wandb-row { display: flex; flex-direction: row; flex-wrap: wrap; justify-content: flex-start; width: 100% }\n",
       "    .wandb-col { display: flex; flex-direction: column; flex-basis: 100%; flex: 1; padding: 10px; }\n",
       "    </style>\n",
       "<div class=\"wandb-row\"><div class=\"wandb-col\"><h3>Run history:</h3><br/><table class=\"wandb\"><tr><td>loss_train</td><td>█▄▄▃▃▃▂▂▂▂▂▂▂▂▂▂▂▂▂▂▁▁▁▁▁▁▁▁▁▁</td></tr><tr><td>loss_valid</td><td>█▇█▃▃▄▃▂▂▃▂▂▃▁▃▂▂▂▂▄▁▁▁▁▁▁▁▁▁▁</td></tr><tr><td>metric_train</td><td>▁▅▅▆▆▆▇▇▇▇▇▇▇▇▇▇▇▇▇▇██████████</td></tr><tr><td>metric_valid</td><td>▂▂▁▆▆▅▆▇▇▅▇▇▇█▆▇▇▇▇▅██████████</td></tr></table><br/></div><div class=\"wandb-col\"><h3>Run summary:</h3><br/><table class=\"wandb\"><tr><td>loss_train</td><td>0.06232</td></tr><tr><td>loss_valid</td><td>0.11595</td></tr><tr><td>metric_train</td><td>0.88952</td></tr><tr><td>metric_valid</td><td>0.79693</td></tr></table><br/></div></div>"
      ],
      "text/plain": [
       "<IPython.core.display.HTML object>"
      ]
     },
     "metadata": {},
     "output_type": "display_data"
    },
    {
     "data": {
      "text/html": [
       " View run <strong style=\"color:#cdcd00\">unet-dropout</strong> at: <a href='https://wandb.ai/face-estimation/Medical%20Image%20Segmentation%28BCE%26Tversky%29/runs/tqozammp' target=\"_blank\">https://wandb.ai/face-estimation/Medical%20Image%20Segmentation%28BCE%26Tversky%29/runs/tqozammp</a><br/>Synced 5 W&B file(s), 0 media file(s), 0 artifact file(s) and 0 other file(s)"
      ],
      "text/plain": [
       "<IPython.core.display.HTML object>"
      ]
     },
     "metadata": {},
     "output_type": "display_data"
    },
    {
     "data": {
      "text/html": [
       "Find logs at: <code>.\\wandb\\run-20240421_142319-tqozammp\\logs</code>"
      ],
      "text/plain": [
       "<IPython.core.display.HTML object>"
      ]
     },
     "metadata": {},
     "output_type": "display_data"
    }
   ],
   "source": [
    "wandb.finish()"
   ]
  },
  {
   "cell_type": "code",
   "execution_count": 10,
   "metadata": {},
   "outputs": [],
   "source": [
    "save(save_path, model, optimizer, loss_fn)"
   ]
  },
  {
   "cell_type": "markdown",
   "metadata": {},
   "source": [
    "### Plot learning curves"
   ]
  },
  {
   "cell_type": "code",
   "execution_count": 14,
   "metadata": {},
   "outputs": [
    {
     "name": "stdout",
     "output_type": "stream",
     "text": [
      "\n",
      "Trained 5 epochs\n"
     ]
    },
    {
     "data": {
      "image/png": "[encoded data removed]",
      "text/plain": [
       "<Figure size 640x480 with 1 Axes>"
      ]
     },
     "metadata": {},
     "output_type": "display_data"
    },
    {
     "name": "stdout",
     "output_type": "stream",
     "text": [
      "\n",
      "Trained 5 epochs\n"
     ]
    },
    {
     "data": {
      "image/png": "[encoded data removed]",
      "text/plain": [
       "<Figure size 640x480 with 1 Axes>"
      ]
     },
     "metadata": {},
     "output_type": "display_data"
    }
   ],
   "source": [
    "plot(metric_train_hist, metric_valid_hist, \"Metric\")\n",
    "plot(loss_train_hist, loss_valid_hist, 'Loss')"
   ]
  }
 ],
 "metadata": {
  "kernelspec": {
   "display_name": "base",
   "language": "python",
   "name": "python3"
  },
  "language_info": {
   "codemirror_mode": {
    "name": "ipython",
    "version": 3
   },
   "file_extension": ".py",
   "mimetype": "text/x-python",
   "name": "python",
   "nbconvert_exporter": "python",
   "pygments_lexer": "ipython3",
   "version": "3.11.4"
  }
 },
 "nbformat": 4,
 "nbformat_minor": 2
}
